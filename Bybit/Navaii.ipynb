{
 "cells": [
  {
   "cell_type": "code",
   "execution_count": 1,
   "metadata": {
    "collapsed": true
   },
   "outputs": [],
   "source": [
    "from datetime import datetime\n",
    "\n",
    "# import qty as qty\n",
    "from pybit import HTTP\n",
    "import pandas as pd\n",
    "from ta.volatility import AverageTrueRange"
   ]
  },
  {
   "cell_type": "code",
   "execution_count": 2,
   "outputs": [],
   "source": [
    "# side = 'Buy'\n",
    "side = 'Sell'\n",
    "#^^^^^^^^^^^^^^^^^^^^^^^^^^^^^^^^^^^^\n",
    "karid = False\n",
    "# karid = True\n",
    "#^^^^^^^^^^^^^^^^^^^^^^^^^^^^^^^^^^^^\n",
    "Risk = 2\n",
    "USD = 1000\n",
    "interval_asl = 1\n",
    "#^^^^^^^^^^^^^^^^^^^^^^^^^^^^^^^^^^^^\n",
    "\n",
    "startTime = datetime.now()\n",
    "startTime = datetime.timestamp(startTime)\n",
    "if type(interval_asl)==int:\n",
    "    st = startTime-190*60*interval_asl\n",
    "elif interval_asl=='D':\n",
    "    st = startTime-190*86400"
   ],
   "metadata": {
    "collapsed": false,
    "pycharm": {
     "name": "#%%\n"
    }
   }
  },
  {
   "cell_type": "code",
   "execution_count": 3,
   "outputs": [
    {
     "data": {
      "text/plain": "1642933407.071989"
     },
     "execution_count": 3,
     "metadata": {},
     "output_type": "execute_result"
    }
   ],
   "source": [
    "st"
   ],
   "metadata": {
    "collapsed": false,
    "pycharm": {
     "name": "#%%\n"
    }
   }
  },
  {
   "cell_type": "code",
   "execution_count": 4,
   "outputs": [
    {
     "name": "stdout",
     "output_type": "stream",
     "text": [
      "close      = -----------35826.0------------,\n",
      "stop_loss  = -----------35858.08-----------,\n",
      "leverage   = ------------22.34-------------,\n",
      "hade zarar = -----0.08954390665997249------\n"
     ]
    }
   ],
   "source": [
    "from pybit import HTTP\n",
    "session = HTTP(\"https://api-testnet.bybit.com\",\n",
    "               api_key=\"qBpP1YrhKM6wWEHmJ7\",\n",
    "               api_secret=\"KI7GkmQ5cfMWBc4V9E70ew1v83WvfD1RbjMX\")\n",
    "df = pd.DataFrame(session.query_kline(\n",
    "    symbol=\"BTCUSDT\",\n",
    "    interval=interval_asl,\n",
    "    from_time=str(int(st))\n",
    ")['result'])\n",
    "\n",
    "df['dddd'] = pd.to_datetime(df.start_at,unit='s')\n",
    "df['ATR'] = round(AverageTrueRange(window=14,high=df.high,low=df.low,close=df.close).average_true_range(),2)\n",
    "\n",
    "close_last = df.iloc[-1,-4]\n",
    "ATR = df.iloc[-1,-1]\n",
    "qty_cal = round(USD/close_last,3)\n",
    "#--------------------------------------------------------------------------------------------------\n",
    "\n",
    "if (side == 'Buy'):\n",
    "    stop_loss = close_last - 2*ATR\n",
    "    print(side)\n",
    "elif (side == 'Sell'):\n",
    "    stop_loss = close_last + 2*ATR\n",
    "else:\n",
    "    print('side ro vared kon')\n",
    "#-----------------------------------------------------------\n",
    "\n",
    "Range = ((abs((close_last-stop_loss))/close_last))*100\n",
    "leverage = round(Risk/Range,2)\n",
    "if leverage <1 :\n",
    "    leverage = 1\n",
    "print(f'close      = {close_last:-^30},\\n'\n",
    "      f'stop_loss  = {stop_loss:-^30},\\n'\n",
    "      f'leverage   = {leverage:-^30},\\n'\n",
    "      f'hade zarar = {(abs(stop_loss-close_last)/close_last)*100:-^30}')"
   ],
   "metadata": {
    "collapsed": false,
    "pycharm": {
     "name": "#%%\n"
    }
   }
  },
  {
   "cell_type": "code",
   "execution_count": 110,
   "outputs": [
    {
     "data": {
      "text/plain": "{'ret_code': 0,\n 'ret_msg': 'OK',\n 'ext_code': '',\n 'ext_info': '',\n 'result': None,\n 'time_now': '1642932023.521225',\n 'rate_limit_status': 74,\n 'rate_limit_reset_ms': 1642932023517,\n 'rate_limit': 75}"
     },
     "execution_count": 110,
     "metadata": {},
     "output_type": "execute_result"
    }
   ],
   "source": [
    "session.set_leverage(\n",
    "    symbol=\"BTCUSDT\",\n",
    "    buy_leverage=leverage,\n",
    "    sell_leverage=leverage\n",
    ")"
   ],
   "metadata": {
    "collapsed": false,
    "pycharm": {
     "name": "#%%\n"
    }
   }
  },
  {
   "cell_type": "code",
   "execution_count": 111,
   "outputs": [],
   "source": [
    "#----------( close )--------------\n",
    "with open('qty.text','r') as aa:\n",
    "    qty = float(aa.read())\n",
    "with open('SellAndBuy.text','r') as aa:\n",
    "    SellAndBuy = aa.read()\n",
    "if SellAndBuy=='Buy':\n",
    "    SellAndBuy='Sell'\n",
    "elif SellAndBuy=='Sell':\n",
    "    SellAndBuy='Buy'"
   ],
   "metadata": {
    "collapsed": false,
    "pycharm": {
     "name": "#%%\n"
    }
   }
  },
  {
   "cell_type": "code",
   "execution_count": 112,
   "outputs": [],
   "source": [
    "if qty>0:\n",
    "    session.place_active_order(\n",
    "        symbol=\"BTCUSDT\",\n",
    "        side=SellAndBuy,\n",
    "        order_type=\"Market\",\n",
    "        qty=qty,\n",
    "        # price=30000,\n",
    "        time_in_force=\"GoodTillCancel\",\n",
    "        reduce_only=True,\n",
    "        close_on_trigger=False)\n",
    "\n",
    "    with open('qty.text','w') as aa:\n",
    "        aa.write(str(0))\n",
    "    with open('SellAndBuy.text','w') as aa:\n",
    "        aa.write(str(0))"
   ],
   "metadata": {
    "collapsed": false,
    "pycharm": {
     "name": "#%%\n"
    }
   }
  },
  {
   "cell_type": "code",
   "execution_count": 113,
   "outputs": [],
   "source": [
    "# #----------( open )--------------\n",
    "if karid == True :\n",
    "    order = session.place_active_order(\n",
    "        symbol=\"BTCUSDT\",\n",
    "        side=side,\n",
    "        order_type=\"Market\",\n",
    "        qty=qty_cal,\n",
    "        # price=30000,\n",
    "        time_in_force=\"GoodTillCancel\",\n",
    "        reduce_only=False,\n",
    "        close_on_trigger=False,\n",
    "        stop_loss =stop_loss\n",
    "    )\n",
    "    print('ersal shod')\n",
    "    qty = order[\"result\"][\"qty\"]\n",
    "    SellAndBuy = order[\"result\"][\"side\"]\n",
    "    print('------------------------')\n",
    "    print('dariaft shod')\n",
    "\n",
    "    with open('qty.text','w') as tt:\n",
    "        tt.write(str(qty))\n",
    "    with open('SellAndBuy.text','w') as tt:\n",
    "        tt.write(str(SellAndBuy))"
   ],
   "metadata": {
    "collapsed": false,
    "pycharm": {
     "name": "#%%\n"
    }
   }
  },
  {
   "cell_type": "code",
   "execution_count": 113,
   "outputs": [],
   "source": [],
   "metadata": {
    "collapsed": false,
    "pycharm": {
     "name": "#%%\n"
    }
   }
  }
 ],
 "metadata": {
  "kernelspec": {
   "display_name": "Python 3",
   "language": "python",
   "name": "python3"
  },
  "language_info": {
   "codemirror_mode": {
    "name": "ipython",
    "version": 2
   },
   "file_extension": ".py",
   "mimetype": "text/x-python",
   "name": "python",
   "nbconvert_exporter": "python",
   "pygments_lexer": "ipython2",
   "version": "2.7.6"
  }
 },
 "nbformat": 4,
 "nbformat_minor": 0
}