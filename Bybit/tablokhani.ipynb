{
 "cells": [
  {
   "cell_type": "code",
   "execution_count": 1,
   "outputs": [],
   "source": [
    "from selenium.webdriver.common.keys import Keys\n",
    "import time\n",
    "from selenium import webdriver\n",
    "from selenium.webdriver.common.by import By\n",
    "from selenium.webdriver.support.ui import WebDriverWait\n",
    "from selenium.webdriver.support import expected_conditions as EC\n",
    "import os\n",
    "import pandas as pd\n",
    "import numpy as np\n",
    "import persian"
   ],
   "metadata": {
    "collapsed": false,
    "pycharm": {
     "name": "#%%\n"
    }
   }
  },
  {
   "cell_type": "code",
   "execution_count": 2,
   "outputs": [],
   "source": [
    "options = webdriver.ChromeOptions()\n",
    "#options.add_argument('--headless')\n",
    "options.add_argument('--ignore-certificate-errors')\n",
    "options.add_argument('--ignore-ssl-errors')\n",
    "options.add_experimental_option('excludeSwitches', ['enable-logging'])"
   ],
   "metadata": {
    "collapsed": false,
    "pycharm": {
     "name": "#%%\n"
    }
   }
  },
  {
   "cell_type": "code",
   "execution_count": 3,
   "outputs": [],
   "source": [
    "url = r'C:\\Users\\smhb1366\\Desktop\\Smhb\\asly\\chromedriver.exe'\n",
    "driver = webdriver.Chrome(executable_path=url, options=options)"
   ],
   "metadata": {
    "collapsed": false,
    "pycharm": {
     "name": "#%%\n"
    }
   }
  },
  {
   "cell_type": "code",
   "execution_count": 4,
   "outputs": [
    {
     "data": {
      "text/plain": "['بیشترین حجم معاملات',\n 'بیشترین حجم امروز به 30 روز',\n 'بیشترین حجم 10 روزه',\n 'حجمهای مشکوک',\n 'ورود پول هوشمند',\n 'خروج پول هوشمند',\n 'تحرک قیمتی',\n 'اردرهای حمایتی',\n 'برترین های تقاضا',\n 'نمادهای در حال صف خرید',\n 'صف خریدهای احتمالی فردا',\n 'برترین های عرضه',\n 'نمادهای در حال صف فروش',\n 'صف فروش احتمالی فردا',\n 'درشت ترین خریداران حقیقی',\n 'درشت ترین فروشندگان حقیقی',\n 'برترین نسبتهای خرید به فروش',\n 'بدترین نسبتهای خرید به فروش',\n 'اختلاف حق تقدم',\n 'مهلت حق تقدم',\n 'جابجایی از حقوقی به حقیقی',\n 'جابجایی از حقیقی به حقوقی',\n 'بیشترین نوسان مثبت',\n 'بیشترین نوسان منفی',\n 'بیشترین رشد امروز',\n 'بیشترین افت امروز',\n 'بیشترین افت 7 روزه',\n 'بیشترین رشد 7 روزه',\n 'بیشترین افت 30 روزه',\n 'بیشترین رشد 30 روزه',\n 'کراس میانگین 20 روزه رو به بالا',\n 'کراس میانگین 20 روزه رو به پایین']"
     },
     "execution_count": 4,
     "metadata": {},
     "output_type": "execute_result"
    }
   ],
   "source": [
    "driver.get('https://tablokhani.com/')\n",
    "n_1= []\n",
    "us = WebDriverWait(driver,5).until(EC.presence_of_all_elements_located((By.CLASS_NAME,'index_box_header')))\n",
    "for i in us:\n",
    "   n_1.append( persian.convert_en_characters(persian.convert_ar_characters((i.text.replace('\\u200c','').strip()))))\n",
    "n_1=n_1[5:]"
   ],
   "metadata": {
    "collapsed": false,
    "pycharm": {
     "name": "#%%\n"
    }
   }
  },
  {
   "cell_type": "code",
   "execution_count": 5,
   "outputs": [],
   "source": [
    "n_2 =['IndexTable15','IndexTable16','IndexTable17','IndexTable18',\n",
    "      'IndexTable26','IndexTable27','IndexTable28','IndexTable29',\n",
    "      'IndexTable1','IndexTable2','IndexTable4',\n",
    "      'IndexTable5','IndexTable6','IndexTable8',\n",
    "      'IndexTable9','IndexTable10',\n",
    "      'IndexTable12','IndexTable13',\n",
    "      'IndexTable_n7','IndexTable_n8',\n",
    "      'IndexTable19','IndexTable20',\n",
    "      'IndexTable_n5','IndexTable_n6',\n",
    "      'IndexTable_n4','IndexTable_n3','IndexTable_n1','IndexTable_n2',\n",
    "      'IndexTable22','IndexTable23','IndexTable24','IndexTable25']"
   ],
   "metadata": {
    "collapsed": false,
    "pycharm": {
     "name": "#%%\n"
    }
   }
  },
  {
   "cell_type": "code",
   "execution_count": 6,
   "outputs": [
    {
     "name": "stdout",
     "output_type": "stream",
     "text": [
      "IndexTable28\n",
      "IndexTable29\n"
     ]
    }
   ],
   "source": [
    "n_4={}\n",
    "test = []\n",
    "\n",
    "for i in range(len(n_2)):\n",
    "    b=0\n",
    "    while b<10:\n",
    "        try:\n",
    "            n_3 = WebDriverWait(driver,20).until(EC.presence_of_all_elements_located((By.XPATH,f'//*[@id=\"{n_2[i]}\"]/tr/td/a')))\n",
    "            for ii in n_3:\n",
    "                test.append( persian.convert_en_characters(persian.convert_ar_characters((ii.text.replace('\\u200c','').strip()))))\n",
    "            n_4[n_1[i]]=test\n",
    "            test=[]\n",
    "            b=10\n",
    "        except:\n",
    "            print(n_2[i])\n",
    "            if b==9:\n",
    "                n_4[n_1[i]]=[0]\n",
    "            b+=1\n"
   ],
   "metadata": {
    "collapsed": false,
    "pycharm": {
     "name": "#%%\n"
    }
   }
  },
  {
   "cell_type": "code",
   "execution_count": 7,
   "outputs": [],
   "source": [
    "n_5=[]\n",
    "for i in n_1:\n",
    "    for ii in n_4[i]:\n",
    "        if ii not in n_5:\n",
    "            n_5.append(ii)\n",
    "\n",
    "n_6 = {}\n",
    "for i in range(len(n_1)):\n",
    "    test_1 = []\n",
    "    for ii in n_5:\n",
    "        if ii in n_4[n_1[i]]:\n",
    "            if i in [5,11,12,13,15,17,21,23,25,26,28,31]:\n",
    "                test_1.append(-1)\n",
    "            elif i in [19,20]:\n",
    "                test_1.append(0)\n",
    "            else:\n",
    "                test_1.append(1)\n",
    "        else:\n",
    "            test_1.append(0)\n",
    "    n_6[n_1[i]] = test_1\n",
    "\n"
   ],
   "metadata": {
    "collapsed": false,
    "pycharm": {
     "name": "#%%\n"
    }
   }
  },
  {
   "cell_type": "code",
   "execution_count": 8,
   "outputs": [],
   "source": [
    "df = pd.DataFrame(n_6,index=n_5)"
   ],
   "metadata": {
    "collapsed": false,
    "pycharm": {
     "name": "#%%\n"
    }
   }
  },
  {
   "cell_type": "code",
   "execution_count": 9,
   "outputs": [],
   "source": [
    "test_2=[]\n",
    "# Asum={}\n",
    "for i in range(len(n_6[n_1[3]])):\n",
    "    test_2.append(np.sum(df.iloc[i,:]))\n",
    "df['sum'] = test_2"
   ],
   "metadata": {
    "collapsed": false,
    "pycharm": {
     "name": "#%%\n"
    }
   }
  },
  {
   "cell_type": "code",
   "execution_count": 10,
   "outputs": [],
   "source": [
    "from datetime import date\n",
    "df.sort_values('sum',ascending=False,inplace=True)\n",
    "\n",
    "df.to_excel(rf'C:\\Users\\smhb1366\\Desktop\\Smhb\\asly\\sahmha\\{date.today()}.xlsx' ,encoding = 'utf8')"
   ],
   "metadata": {
    "collapsed": false,
    "pycharm": {
     "name": "#%%\n"
    }
   }
  }
 ],
 "metadata": {
  "kernelspec": {
   "name": "pycharm-6199b386",
   "language": "python",
   "display_name": "PyCharm (Smhb)"
  },
  "language_info": {
   "codemirror_mode": {
    "name": "ipython",
    "version": 2
   },
   "file_extension": ".py",
   "mimetype": "text/x-python",
   "name": "python",
   "nbconvert_exporter": "python",
   "pygments_lexer": "ipython2",
   "version": "2.7.6"
  }
 },
 "nbformat": 4,
 "nbformat_minor": 0
}